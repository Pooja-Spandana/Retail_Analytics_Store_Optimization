{
 "cells": [
  {
   "cell_type": "markdown",
   "id": "b9e7f30c",
   "metadata": {},
   "source": [
    "# ***Integrated Retail Analytics for Store Optimization***"
   ]
  },
  {
   "cell_type": "markdown",
   "id": "2016c4c7",
   "metadata": {},
   "source": [
    "### ***Import required libraries***"
   ]
  },
  {
   "cell_type": "code",
   "execution_count": 56,
   "id": "77eceaf0",
   "metadata": {},
   "outputs": [],
   "source": [
    "import numpy as np\n",
    "import pandas as pd\n",
    "import seaborn as sns\n",
    "import matplotlib.pyplot as plt"
   ]
  },
  {
   "cell_type": "markdown",
   "id": "cb5b3fcc",
   "metadata": {},
   "source": [
    "### ***Load & Explore Data***"
   ]
  },
  {
   "cell_type": "code",
   "execution_count": 57,
   "id": "b495d124",
   "metadata": {},
   "outputs": [],
   "source": [
    "# Load Datasets\n",
    "\n",
    "sales_df = pd.read_csv(r'C:\\Users\\spand\\Projects\\LABMENTIX_PROJECTS\\Retail_Analytics_Store_Optimization\\Data\\Raw\\sales_dataset.csv')\n",
    "store_df = pd.read_csv(r'C:\\Users\\spand\\Projects\\LABMENTIX_PROJECTS\\Retail_Analytics_Store_Optimization\\Data\\Raw\\stores_dataset.csv')\n",
    "features_df = pd.read_csv(r'C:\\Users\\spand\\Projects\\LABMENTIX_PROJECTS\\Retail_Analytics_Store_Optimization\\Data\\Raw\\Features_dataset.csv')"
   ]
  },
  {
   "cell_type": "markdown",
   "id": "76d3cca7",
   "metadata": {},
   "source": [
    "#### **Sales data**"
   ]
  },
  {
   "cell_type": "code",
   "execution_count": 58,
   "id": "499596fc",
   "metadata": {},
   "outputs": [
    {
     "name": "stdout",
     "output_type": "stream",
     "text": [
      "<class 'pandas.core.frame.DataFrame'>\n",
      "RangeIndex: 421570 entries, 0 to 421569\n",
      "Data columns (total 5 columns):\n",
      " #   Column        Non-Null Count   Dtype  \n",
      "---  ------        --------------   -----  \n",
      " 0   Store         421570 non-null  int64  \n",
      " 1   Dept          421570 non-null  int64  \n",
      " 2   Date          421570 non-null  object \n",
      " 3   Weekly_Sales  421570 non-null  float64\n",
      " 4   IsHoliday     421570 non-null  bool   \n",
      "dtypes: bool(1), float64(1), int64(2), object(1)\n",
      "memory usage: 13.3+ MB\n"
     ]
    }
   ],
   "source": [
    "# Dataset info\n",
    "sales_df.info()"
   ]
  },
  {
   "cell_type": "code",
   "execution_count": 59,
   "id": "9265aa39",
   "metadata": {},
   "outputs": [
    {
     "name": "stdout",
     "output_type": "stream",
     "text": [
      "No of rows in sales dataset: 421570\n",
      "No of columns in sales dataset: 5\n"
     ]
    }
   ],
   "source": [
    "# Count of Rows & Columns\n",
    "print(f\"No of rows in sales dataset: {sales_df.shape[0]}\")\n",
    "print(f\"No of columns in sales dataset: {sales_df.shape[1]}\")"
   ]
  },
  {
   "cell_type": "code",
   "execution_count": 60,
   "id": "936fbda1",
   "metadata": {},
   "outputs": [
    {
     "data": {
      "text/html": [
       "<div>\n",
       "<style scoped>\n",
       "    .dataframe tbody tr th:only-of-type {\n",
       "        vertical-align: middle;\n",
       "    }\n",
       "\n",
       "    .dataframe tbody tr th {\n",
       "        vertical-align: top;\n",
       "    }\n",
       "\n",
       "    .dataframe thead th {\n",
       "        text-align: right;\n",
       "    }\n",
       "</style>\n",
       "<table border=\"1\" class=\"dataframe\">\n",
       "  <thead>\n",
       "    <tr style=\"text-align: right;\">\n",
       "      <th></th>\n",
       "      <th>Store</th>\n",
       "      <th>Dept</th>\n",
       "      <th>Date</th>\n",
       "      <th>Weekly_Sales</th>\n",
       "      <th>IsHoliday</th>\n",
       "    </tr>\n",
       "  </thead>\n",
       "  <tbody>\n",
       "    <tr>\n",
       "      <th>0</th>\n",
       "      <td>1</td>\n",
       "      <td>1</td>\n",
       "      <td>05/02/2010</td>\n",
       "      <td>24924.50</td>\n",
       "      <td>False</td>\n",
       "    </tr>\n",
       "    <tr>\n",
       "      <th>1</th>\n",
       "      <td>1</td>\n",
       "      <td>1</td>\n",
       "      <td>12/02/2010</td>\n",
       "      <td>46039.49</td>\n",
       "      <td>True</td>\n",
       "    </tr>\n",
       "    <tr>\n",
       "      <th>2</th>\n",
       "      <td>1</td>\n",
       "      <td>1</td>\n",
       "      <td>19/02/2010</td>\n",
       "      <td>41595.55</td>\n",
       "      <td>False</td>\n",
       "    </tr>\n",
       "    <tr>\n",
       "      <th>3</th>\n",
       "      <td>1</td>\n",
       "      <td>1</td>\n",
       "      <td>26/02/2010</td>\n",
       "      <td>19403.54</td>\n",
       "      <td>False</td>\n",
       "    </tr>\n",
       "    <tr>\n",
       "      <th>4</th>\n",
       "      <td>1</td>\n",
       "      <td>1</td>\n",
       "      <td>05/03/2010</td>\n",
       "      <td>21827.90</td>\n",
       "      <td>False</td>\n",
       "    </tr>\n",
       "  </tbody>\n",
       "</table>\n",
       "</div>"
      ],
      "text/plain": [
       "   Store  Dept        Date  Weekly_Sales  IsHoliday\n",
       "0      1     1  05/02/2010      24924.50      False\n",
       "1      1     1  12/02/2010      46039.49       True\n",
       "2      1     1  19/02/2010      41595.55      False\n",
       "3      1     1  26/02/2010      19403.54      False\n",
       "4      1     1  05/03/2010      21827.90      False"
      ]
     },
     "execution_count": 60,
     "metadata": {},
     "output_type": "execute_result"
    }
   ],
   "source": [
    "# View the dataset\n",
    "sales_df.head()"
   ]
  },
  {
   "cell_type": "code",
   "execution_count": 61,
   "id": "fada1470",
   "metadata": {},
   "outputs": [
    {
     "data": {
      "text/html": [
       "<div>\n",
       "<style scoped>\n",
       "    .dataframe tbody tr th:only-of-type {\n",
       "        vertical-align: middle;\n",
       "    }\n",
       "\n",
       "    .dataframe tbody tr th {\n",
       "        vertical-align: top;\n",
       "    }\n",
       "\n",
       "    .dataframe thead th {\n",
       "        text-align: right;\n",
       "    }\n",
       "</style>\n",
       "<table border=\"1\" class=\"dataframe\">\n",
       "  <thead>\n",
       "    <tr style=\"text-align: right;\">\n",
       "      <th></th>\n",
       "      <th>Store</th>\n",
       "      <th>Dept</th>\n",
       "      <th>Date</th>\n",
       "      <th>Weekly_Sales</th>\n",
       "      <th>IsHoliday</th>\n",
       "    </tr>\n",
       "  </thead>\n",
       "  <tbody>\n",
       "    <tr>\n",
       "      <th>421565</th>\n",
       "      <td>45</td>\n",
       "      <td>98</td>\n",
       "      <td>28/09/2012</td>\n",
       "      <td>508.37</td>\n",
       "      <td>False</td>\n",
       "    </tr>\n",
       "    <tr>\n",
       "      <th>421566</th>\n",
       "      <td>45</td>\n",
       "      <td>98</td>\n",
       "      <td>05/10/2012</td>\n",
       "      <td>628.10</td>\n",
       "      <td>False</td>\n",
       "    </tr>\n",
       "    <tr>\n",
       "      <th>421567</th>\n",
       "      <td>45</td>\n",
       "      <td>98</td>\n",
       "      <td>12/10/2012</td>\n",
       "      <td>1061.02</td>\n",
       "      <td>False</td>\n",
       "    </tr>\n",
       "    <tr>\n",
       "      <th>421568</th>\n",
       "      <td>45</td>\n",
       "      <td>98</td>\n",
       "      <td>19/10/2012</td>\n",
       "      <td>760.01</td>\n",
       "      <td>False</td>\n",
       "    </tr>\n",
       "    <tr>\n",
       "      <th>421569</th>\n",
       "      <td>45</td>\n",
       "      <td>98</td>\n",
       "      <td>26/10/2012</td>\n",
       "      <td>1076.80</td>\n",
       "      <td>False</td>\n",
       "    </tr>\n",
       "  </tbody>\n",
       "</table>\n",
       "</div>"
      ],
      "text/plain": [
       "        Store  Dept        Date  Weekly_Sales  IsHoliday\n",
       "421565     45    98  28/09/2012        508.37      False\n",
       "421566     45    98  05/10/2012        628.10      False\n",
       "421567     45    98  12/10/2012       1061.02      False\n",
       "421568     45    98  19/10/2012        760.01      False\n",
       "421569     45    98  26/10/2012       1076.80      False"
      ]
     },
     "execution_count": 61,
     "metadata": {},
     "output_type": "execute_result"
    }
   ],
   "source": [
    "sales_df.tail()"
   ]
  },
  {
   "cell_type": "code",
   "execution_count": 62,
   "id": "7146a7ac",
   "metadata": {},
   "outputs": [
    {
     "data": {
      "text/plain": [
       "Store           0\n",
       "Dept            0\n",
       "Date            0\n",
       "Weekly_Sales    0\n",
       "IsHoliday       0\n",
       "dtype: int64"
      ]
     },
     "execution_count": 62,
     "metadata": {},
     "output_type": "execute_result"
    }
   ],
   "source": [
    "# Missing values\n",
    "sales_df.isnull().sum()"
   ]
  },
  {
   "cell_type": "code",
   "execution_count": 63,
   "id": "994a91f3",
   "metadata": {},
   "outputs": [
    {
     "data": {
      "text/plain": [
       "np.int64(0)"
      ]
     },
     "execution_count": 63,
     "metadata": {},
     "output_type": "execute_result"
    }
   ],
   "source": [
    "# Duplicates\n",
    "sales_df.duplicated().sum()"
   ]
  },
  {
   "cell_type": "code",
   "execution_count": 64,
   "id": "9cc3095e",
   "metadata": {},
   "outputs": [
    {
     "data": {
      "text/html": [
       "<div>\n",
       "<style scoped>\n",
       "    .dataframe tbody tr th:only-of-type {\n",
       "        vertical-align: middle;\n",
       "    }\n",
       "\n",
       "    .dataframe tbody tr th {\n",
       "        vertical-align: top;\n",
       "    }\n",
       "\n",
       "    .dataframe thead th {\n",
       "        text-align: right;\n",
       "    }\n",
       "</style>\n",
       "<table border=\"1\" class=\"dataframe\">\n",
       "  <thead>\n",
       "    <tr style=\"text-align: right;\">\n",
       "      <th></th>\n",
       "      <th>count</th>\n",
       "      <th>mean</th>\n",
       "      <th>std</th>\n",
       "      <th>min</th>\n",
       "      <th>25%</th>\n",
       "      <th>50%</th>\n",
       "      <th>75%</th>\n",
       "      <th>max</th>\n",
       "    </tr>\n",
       "  </thead>\n",
       "  <tbody>\n",
       "    <tr>\n",
       "      <th>Store</th>\n",
       "      <td>421570.0</td>\n",
       "      <td>22.200546</td>\n",
       "      <td>12.785297</td>\n",
       "      <td>1.00</td>\n",
       "      <td>11.00</td>\n",
       "      <td>22.00</td>\n",
       "      <td>33.0000</td>\n",
       "      <td>45.00</td>\n",
       "    </tr>\n",
       "    <tr>\n",
       "      <th>Dept</th>\n",
       "      <td>421570.0</td>\n",
       "      <td>44.260317</td>\n",
       "      <td>30.492054</td>\n",
       "      <td>1.00</td>\n",
       "      <td>18.00</td>\n",
       "      <td>37.00</td>\n",
       "      <td>74.0000</td>\n",
       "      <td>99.00</td>\n",
       "    </tr>\n",
       "    <tr>\n",
       "      <th>Weekly_Sales</th>\n",
       "      <td>421570.0</td>\n",
       "      <td>15981.258123</td>\n",
       "      <td>22711.183519</td>\n",
       "      <td>-4988.94</td>\n",
       "      <td>2079.65</td>\n",
       "      <td>7612.03</td>\n",
       "      <td>20205.8525</td>\n",
       "      <td>693099.36</td>\n",
       "    </tr>\n",
       "  </tbody>\n",
       "</table>\n",
       "</div>"
      ],
      "text/plain": [
       "                 count          mean           std      min      25%      50%  \\\n",
       "Store         421570.0     22.200546     12.785297     1.00    11.00    22.00   \n",
       "Dept          421570.0     44.260317     30.492054     1.00    18.00    37.00   \n",
       "Weekly_Sales  421570.0  15981.258123  22711.183519 -4988.94  2079.65  7612.03   \n",
       "\n",
       "                     75%        max  \n",
       "Store            33.0000      45.00  \n",
       "Dept             74.0000      99.00  \n",
       "Weekly_Sales  20205.8525  693099.36  "
      ]
     },
     "execution_count": 64,
     "metadata": {},
     "output_type": "execute_result"
    }
   ],
   "source": [
    "# Descriptive statistics\n",
    "sales_df.describe().T"
   ]
  },
  {
   "cell_type": "code",
   "execution_count": 65,
   "id": "90d59a1b",
   "metadata": {},
   "outputs": [
    {
     "data": {
      "text/html": [
       "<div>\n",
       "<style scoped>\n",
       "    .dataframe tbody tr th:only-of-type {\n",
       "        vertical-align: middle;\n",
       "    }\n",
       "\n",
       "    .dataframe tbody tr th {\n",
       "        vertical-align: top;\n",
       "    }\n",
       "\n",
       "    .dataframe thead th {\n",
       "        text-align: right;\n",
       "    }\n",
       "</style>\n",
       "<table border=\"1\" class=\"dataframe\">\n",
       "  <thead>\n",
       "    <tr style=\"text-align: right;\">\n",
       "      <th></th>\n",
       "      <th>count</th>\n",
       "      <th>unique</th>\n",
       "      <th>top</th>\n",
       "      <th>freq</th>\n",
       "    </tr>\n",
       "  </thead>\n",
       "  <tbody>\n",
       "    <tr>\n",
       "      <th>Date</th>\n",
       "      <td>421570</td>\n",
       "      <td>143</td>\n",
       "      <td>23/12/2011</td>\n",
       "      <td>3027</td>\n",
       "    </tr>\n",
       "    <tr>\n",
       "      <th>IsHoliday</th>\n",
       "      <td>421570</td>\n",
       "      <td>2</td>\n",
       "      <td>False</td>\n",
       "      <td>391909</td>\n",
       "    </tr>\n",
       "  </tbody>\n",
       "</table>\n",
       "</div>"
      ],
      "text/plain": [
       "            count unique         top    freq\n",
       "Date       421570    143  23/12/2011    3027\n",
       "IsHoliday  421570      2       False  391909"
      ]
     },
     "execution_count": 65,
     "metadata": {},
     "output_type": "execute_result"
    }
   ],
   "source": [
    "sales_df.describe(include=['object', 'bool']).T"
   ]
  },
  {
   "cell_type": "code",
   "execution_count": 66,
   "id": "9233152f",
   "metadata": {},
   "outputs": [
    {
     "data": {
      "text/plain": [
       "Store               45\n",
       "Dept                81\n",
       "Date               143\n",
       "Weekly_Sales    359464\n",
       "IsHoliday            2\n",
       "dtype: int64"
      ]
     },
     "execution_count": 66,
     "metadata": {},
     "output_type": "execute_result"
    }
   ],
   "source": [
    "# Unique values\n",
    "sales_df.nunique()"
   ]
  },
  {
   "cell_type": "markdown",
   "id": "bdb2af48",
   "metadata": {},
   "source": [
    "#### ***Basic Understanding of sales dataset***\n",
    "- The dataset consists of 421570 rows and 5 columns.\n",
    "- Some columns in the datset do need conversion of data type.\n",
    "- It is fairly clean dataset with no missing or duplicate values.\n",
    "\n",
    "#### ***Feature Description***\n",
    "- Store -> Unique Store Id\n",
    "- Dept -> Unique Department Id\n",
    "- Date -> Timestamp of the record\n",
    "- Weekly_Sales -> Weekly sales amount\n",
    "- IsHoliday -> Binary flag indicating holiday weeks"
   ]
  },
  {
   "cell_type": "markdown",
   "id": "62f2ca28",
   "metadata": {},
   "source": [
    "#### **Stores data**"
   ]
  },
  {
   "cell_type": "code",
   "execution_count": 67,
   "id": "53a64edb",
   "metadata": {},
   "outputs": [
    {
     "name": "stdout",
     "output_type": "stream",
     "text": [
      "<class 'pandas.core.frame.DataFrame'>\n",
      "RangeIndex: 45 entries, 0 to 44\n",
      "Data columns (total 3 columns):\n",
      " #   Column  Non-Null Count  Dtype \n",
      "---  ------  --------------  ----- \n",
      " 0   Store   45 non-null     int64 \n",
      " 1   Type    45 non-null     object\n",
      " 2   Size    45 non-null     int64 \n",
      "dtypes: int64(2), object(1)\n",
      "memory usage: 1.2+ KB\n"
     ]
    }
   ],
   "source": [
    "# Dataset info\n",
    "store_df.info()"
   ]
  },
  {
   "cell_type": "code",
   "execution_count": 68,
   "id": "f10372b6",
   "metadata": {},
   "outputs": [
    {
     "name": "stdout",
     "output_type": "stream",
     "text": [
      "No of rows in store dataset: 45\n",
      "No of columns in store dataset: 3\n"
     ]
    }
   ],
   "source": [
    "# Count of Rows & Columns\n",
    "print(f\"No of rows in store dataset: {store_df.shape[0]}\")\n",
    "print(f\"No of columns in store dataset: {store_df.shape[1]}\")"
   ]
  },
  {
   "cell_type": "code",
   "execution_count": 69,
   "id": "1838f736",
   "metadata": {},
   "outputs": [
    {
     "data": {
      "text/html": [
       "<div>\n",
       "<style scoped>\n",
       "    .dataframe tbody tr th:only-of-type {\n",
       "        vertical-align: middle;\n",
       "    }\n",
       "\n",
       "    .dataframe tbody tr th {\n",
       "        vertical-align: top;\n",
       "    }\n",
       "\n",
       "    .dataframe thead th {\n",
       "        text-align: right;\n",
       "    }\n",
       "</style>\n",
       "<table border=\"1\" class=\"dataframe\">\n",
       "  <thead>\n",
       "    <tr style=\"text-align: right;\">\n",
       "      <th></th>\n",
       "      <th>Store</th>\n",
       "      <th>Type</th>\n",
       "      <th>Size</th>\n",
       "    </tr>\n",
       "  </thead>\n",
       "  <tbody>\n",
       "    <tr>\n",
       "      <th>0</th>\n",
       "      <td>1</td>\n",
       "      <td>A</td>\n",
       "      <td>151315</td>\n",
       "    </tr>\n",
       "    <tr>\n",
       "      <th>1</th>\n",
       "      <td>2</td>\n",
       "      <td>A</td>\n",
       "      <td>202307</td>\n",
       "    </tr>\n",
       "    <tr>\n",
       "      <th>2</th>\n",
       "      <td>3</td>\n",
       "      <td>B</td>\n",
       "      <td>37392</td>\n",
       "    </tr>\n",
       "    <tr>\n",
       "      <th>3</th>\n",
       "      <td>4</td>\n",
       "      <td>A</td>\n",
       "      <td>205863</td>\n",
       "    </tr>\n",
       "    <tr>\n",
       "      <th>4</th>\n",
       "      <td>5</td>\n",
       "      <td>B</td>\n",
       "      <td>34875</td>\n",
       "    </tr>\n",
       "  </tbody>\n",
       "</table>\n",
       "</div>"
      ],
      "text/plain": [
       "   Store Type    Size\n",
       "0      1    A  151315\n",
       "1      2    A  202307\n",
       "2      3    B   37392\n",
       "3      4    A  205863\n",
       "4      5    B   34875"
      ]
     },
     "execution_count": 69,
     "metadata": {},
     "output_type": "execute_result"
    }
   ],
   "source": [
    "# View the dataset\n",
    "store_df.head()"
   ]
  },
  {
   "cell_type": "code",
   "execution_count": 70,
   "id": "0d9d48c2",
   "metadata": {},
   "outputs": [
    {
     "data": {
      "text/html": [
       "<div>\n",
       "<style scoped>\n",
       "    .dataframe tbody tr th:only-of-type {\n",
       "        vertical-align: middle;\n",
       "    }\n",
       "\n",
       "    .dataframe tbody tr th {\n",
       "        vertical-align: top;\n",
       "    }\n",
       "\n",
       "    .dataframe thead th {\n",
       "        text-align: right;\n",
       "    }\n",
       "</style>\n",
       "<table border=\"1\" class=\"dataframe\">\n",
       "  <thead>\n",
       "    <tr style=\"text-align: right;\">\n",
       "      <th></th>\n",
       "      <th>Store</th>\n",
       "      <th>Type</th>\n",
       "      <th>Size</th>\n",
       "    </tr>\n",
       "  </thead>\n",
       "  <tbody>\n",
       "    <tr>\n",
       "      <th>40</th>\n",
       "      <td>41</td>\n",
       "      <td>A</td>\n",
       "      <td>196321</td>\n",
       "    </tr>\n",
       "    <tr>\n",
       "      <th>41</th>\n",
       "      <td>42</td>\n",
       "      <td>C</td>\n",
       "      <td>39690</td>\n",
       "    </tr>\n",
       "    <tr>\n",
       "      <th>42</th>\n",
       "      <td>43</td>\n",
       "      <td>C</td>\n",
       "      <td>41062</td>\n",
       "    </tr>\n",
       "    <tr>\n",
       "      <th>43</th>\n",
       "      <td>44</td>\n",
       "      <td>C</td>\n",
       "      <td>39910</td>\n",
       "    </tr>\n",
       "    <tr>\n",
       "      <th>44</th>\n",
       "      <td>45</td>\n",
       "      <td>B</td>\n",
       "      <td>118221</td>\n",
       "    </tr>\n",
       "  </tbody>\n",
       "</table>\n",
       "</div>"
      ],
      "text/plain": [
       "    Store Type    Size\n",
       "40     41    A  196321\n",
       "41     42    C   39690\n",
       "42     43    C   41062\n",
       "43     44    C   39910\n",
       "44     45    B  118221"
      ]
     },
     "execution_count": 70,
     "metadata": {},
     "output_type": "execute_result"
    }
   ],
   "source": [
    "store_df.tail()"
   ]
  },
  {
   "cell_type": "code",
   "execution_count": 71,
   "id": "933ed206",
   "metadata": {},
   "outputs": [
    {
     "data": {
      "text/plain": [
       "Store    0\n",
       "Type     0\n",
       "Size     0\n",
       "dtype: int64"
      ]
     },
     "execution_count": 71,
     "metadata": {},
     "output_type": "execute_result"
    }
   ],
   "source": [
    "# Missing values\n",
    "store_df.isnull().sum()"
   ]
  },
  {
   "cell_type": "code",
   "execution_count": 72,
   "id": "1e47a9f8",
   "metadata": {},
   "outputs": [
    {
     "data": {
      "text/plain": [
       "np.int64(0)"
      ]
     },
     "execution_count": 72,
     "metadata": {},
     "output_type": "execute_result"
    }
   ],
   "source": [
    "# Duplicates\n",
    "store_df.duplicated().sum()"
   ]
  },
  {
   "cell_type": "code",
   "execution_count": 73,
   "id": "e91f669b",
   "metadata": {},
   "outputs": [
    {
     "data": {
      "text/html": [
       "<div>\n",
       "<style scoped>\n",
       "    .dataframe tbody tr th:only-of-type {\n",
       "        vertical-align: middle;\n",
       "    }\n",
       "\n",
       "    .dataframe tbody tr th {\n",
       "        vertical-align: top;\n",
       "    }\n",
       "\n",
       "    .dataframe thead th {\n",
       "        text-align: right;\n",
       "    }\n",
       "</style>\n",
       "<table border=\"1\" class=\"dataframe\">\n",
       "  <thead>\n",
       "    <tr style=\"text-align: right;\">\n",
       "      <th></th>\n",
       "      <th>count</th>\n",
       "      <th>mean</th>\n",
       "      <th>std</th>\n",
       "      <th>min</th>\n",
       "      <th>25%</th>\n",
       "      <th>50%</th>\n",
       "      <th>75%</th>\n",
       "      <th>max</th>\n",
       "    </tr>\n",
       "  </thead>\n",
       "  <tbody>\n",
       "    <tr>\n",
       "      <th>Store</th>\n",
       "      <td>45.0</td>\n",
       "      <td>23.0</td>\n",
       "      <td>13.133926</td>\n",
       "      <td>1.0</td>\n",
       "      <td>12.0</td>\n",
       "      <td>23.0</td>\n",
       "      <td>34.0</td>\n",
       "      <td>45.0</td>\n",
       "    </tr>\n",
       "    <tr>\n",
       "      <th>Size</th>\n",
       "      <td>45.0</td>\n",
       "      <td>130287.6</td>\n",
       "      <td>63825.271991</td>\n",
       "      <td>34875.0</td>\n",
       "      <td>70713.0</td>\n",
       "      <td>126512.0</td>\n",
       "      <td>202307.0</td>\n",
       "      <td>219622.0</td>\n",
       "    </tr>\n",
       "  </tbody>\n",
       "</table>\n",
       "</div>"
      ],
      "text/plain": [
       "       count      mean           std      min      25%       50%       75%  \\\n",
       "Store   45.0      23.0     13.133926      1.0     12.0      23.0      34.0   \n",
       "Size    45.0  130287.6  63825.271991  34875.0  70713.0  126512.0  202307.0   \n",
       "\n",
       "            max  \n",
       "Store      45.0  \n",
       "Size   219622.0  "
      ]
     },
     "execution_count": 73,
     "metadata": {},
     "output_type": "execute_result"
    }
   ],
   "source": [
    "# Descriptive statistics\n",
    "store_df.describe().T"
   ]
  },
  {
   "cell_type": "code",
   "execution_count": 74,
   "id": "b536fc9d",
   "metadata": {},
   "outputs": [
    {
     "data": {
      "text/html": [
       "<div>\n",
       "<style scoped>\n",
       "    .dataframe tbody tr th:only-of-type {\n",
       "        vertical-align: middle;\n",
       "    }\n",
       "\n",
       "    .dataframe tbody tr th {\n",
       "        vertical-align: top;\n",
       "    }\n",
       "\n",
       "    .dataframe thead th {\n",
       "        text-align: right;\n",
       "    }\n",
       "</style>\n",
       "<table border=\"1\" class=\"dataframe\">\n",
       "  <thead>\n",
       "    <tr style=\"text-align: right;\">\n",
       "      <th></th>\n",
       "      <th>count</th>\n",
       "      <th>unique</th>\n",
       "      <th>top</th>\n",
       "      <th>freq</th>\n",
       "    </tr>\n",
       "  </thead>\n",
       "  <tbody>\n",
       "    <tr>\n",
       "      <th>Type</th>\n",
       "      <td>45</td>\n",
       "      <td>3</td>\n",
       "      <td>A</td>\n",
       "      <td>22</td>\n",
       "    </tr>\n",
       "  </tbody>\n",
       "</table>\n",
       "</div>"
      ],
      "text/plain": [
       "     count unique top freq\n",
       "Type    45      3   A   22"
      ]
     },
     "execution_count": 74,
     "metadata": {},
     "output_type": "execute_result"
    }
   ],
   "source": [
    "store_df.describe(include=['object', 'bool']).T"
   ]
  },
  {
   "cell_type": "code",
   "execution_count": 75,
   "id": "bedc7b8c",
   "metadata": {},
   "outputs": [
    {
     "data": {
      "text/plain": [
       "Store    45\n",
       "Type      3\n",
       "Size     40\n",
       "dtype: int64"
      ]
     },
     "execution_count": 75,
     "metadata": {},
     "output_type": "execute_result"
    }
   ],
   "source": [
    "# Unique values\n",
    "store_df.nunique()"
   ]
  },
  {
   "cell_type": "markdown",
   "id": "b28b4693",
   "metadata": {},
   "source": [
    "#### ***Basic Understanding of stores dataset***\n",
    "- The dataset consists of 45 rows and 3 columns.\n",
    "- No data type conversions needed for this dataset.\n",
    "- It is fairly clean dataset with no missing or duplicate values.\n",
    "\n",
    "#### ***Feature Description***\n",
    "- Store -> Unique Store Id\n",
    "- Type -> Categorical classification of stores\n",
    "- Size -> Size of the store "
   ]
  },
  {
   "cell_type": "markdown",
   "id": "aa987396",
   "metadata": {},
   "source": [
    "#### **Features data**"
   ]
  },
  {
   "cell_type": "code",
   "execution_count": 76,
   "id": "38ddbe5f",
   "metadata": {},
   "outputs": [
    {
     "name": "stdout",
     "output_type": "stream",
     "text": [
      "<class 'pandas.core.frame.DataFrame'>\n",
      "RangeIndex: 8190 entries, 0 to 8189\n",
      "Data columns (total 12 columns):\n",
      " #   Column        Non-Null Count  Dtype  \n",
      "---  ------        --------------  -----  \n",
      " 0   Store         8190 non-null   int64  \n",
      " 1   Date          8190 non-null   object \n",
      " 2   Temperature   8190 non-null   float64\n",
      " 3   Fuel_Price    8190 non-null   float64\n",
      " 4   MarkDown1     4032 non-null   float64\n",
      " 5   MarkDown2     2921 non-null   float64\n",
      " 6   MarkDown3     3613 non-null   float64\n",
      " 7   MarkDown4     3464 non-null   float64\n",
      " 8   MarkDown5     4050 non-null   float64\n",
      " 9   CPI           7605 non-null   float64\n",
      " 10  Unemployment  7605 non-null   float64\n",
      " 11  IsHoliday     8190 non-null   bool   \n",
      "dtypes: bool(1), float64(9), int64(1), object(1)\n",
      "memory usage: 712.0+ KB\n"
     ]
    }
   ],
   "source": [
    "# Dataset info\n",
    "features_df.info()"
   ]
  },
  {
   "cell_type": "code",
   "execution_count": 77,
   "id": "23d1ad9e",
   "metadata": {},
   "outputs": [
    {
     "name": "stdout",
     "output_type": "stream",
     "text": [
      "No of rows in features dataset: 8190\n",
      "No of columns in features dataset: 12\n"
     ]
    }
   ],
   "source": [
    "# Count of Rows & Columns\n",
    "print(f\"No of rows in features dataset: {features_df.shape[0]}\")\n",
    "print(f\"No of columns in features dataset: {features_df.shape[1]}\")"
   ]
  },
  {
   "cell_type": "code",
   "execution_count": 78,
   "id": "528ebb07",
   "metadata": {},
   "outputs": [
    {
     "data": {
      "text/html": [
       "<div>\n",
       "<style scoped>\n",
       "    .dataframe tbody tr th:only-of-type {\n",
       "        vertical-align: middle;\n",
       "    }\n",
       "\n",
       "    .dataframe tbody tr th {\n",
       "        vertical-align: top;\n",
       "    }\n",
       "\n",
       "    .dataframe thead th {\n",
       "        text-align: right;\n",
       "    }\n",
       "</style>\n",
       "<table border=\"1\" class=\"dataframe\">\n",
       "  <thead>\n",
       "    <tr style=\"text-align: right;\">\n",
       "      <th></th>\n",
       "      <th>Store</th>\n",
       "      <th>Date</th>\n",
       "      <th>Temperature</th>\n",
       "      <th>Fuel_Price</th>\n",
       "      <th>MarkDown1</th>\n",
       "      <th>MarkDown2</th>\n",
       "      <th>MarkDown3</th>\n",
       "      <th>MarkDown4</th>\n",
       "      <th>MarkDown5</th>\n",
       "      <th>CPI</th>\n",
       "      <th>Unemployment</th>\n",
       "      <th>IsHoliday</th>\n",
       "    </tr>\n",
       "  </thead>\n",
       "  <tbody>\n",
       "    <tr>\n",
       "      <th>0</th>\n",
       "      <td>1</td>\n",
       "      <td>05/02/2010</td>\n",
       "      <td>42.31</td>\n",
       "      <td>2.572</td>\n",
       "      <td>NaN</td>\n",
       "      <td>NaN</td>\n",
       "      <td>NaN</td>\n",
       "      <td>NaN</td>\n",
       "      <td>NaN</td>\n",
       "      <td>211.096358</td>\n",
       "      <td>8.106</td>\n",
       "      <td>False</td>\n",
       "    </tr>\n",
       "    <tr>\n",
       "      <th>1</th>\n",
       "      <td>1</td>\n",
       "      <td>12/02/2010</td>\n",
       "      <td>38.51</td>\n",
       "      <td>2.548</td>\n",
       "      <td>NaN</td>\n",
       "      <td>NaN</td>\n",
       "      <td>NaN</td>\n",
       "      <td>NaN</td>\n",
       "      <td>NaN</td>\n",
       "      <td>211.242170</td>\n",
       "      <td>8.106</td>\n",
       "      <td>True</td>\n",
       "    </tr>\n",
       "    <tr>\n",
       "      <th>2</th>\n",
       "      <td>1</td>\n",
       "      <td>19/02/2010</td>\n",
       "      <td>39.93</td>\n",
       "      <td>2.514</td>\n",
       "      <td>NaN</td>\n",
       "      <td>NaN</td>\n",
       "      <td>NaN</td>\n",
       "      <td>NaN</td>\n",
       "      <td>NaN</td>\n",
       "      <td>211.289143</td>\n",
       "      <td>8.106</td>\n",
       "      <td>False</td>\n",
       "    </tr>\n",
       "    <tr>\n",
       "      <th>3</th>\n",
       "      <td>1</td>\n",
       "      <td>26/02/2010</td>\n",
       "      <td>46.63</td>\n",
       "      <td>2.561</td>\n",
       "      <td>NaN</td>\n",
       "      <td>NaN</td>\n",
       "      <td>NaN</td>\n",
       "      <td>NaN</td>\n",
       "      <td>NaN</td>\n",
       "      <td>211.319643</td>\n",
       "      <td>8.106</td>\n",
       "      <td>False</td>\n",
       "    </tr>\n",
       "    <tr>\n",
       "      <th>4</th>\n",
       "      <td>1</td>\n",
       "      <td>05/03/2010</td>\n",
       "      <td>46.50</td>\n",
       "      <td>2.625</td>\n",
       "      <td>NaN</td>\n",
       "      <td>NaN</td>\n",
       "      <td>NaN</td>\n",
       "      <td>NaN</td>\n",
       "      <td>NaN</td>\n",
       "      <td>211.350143</td>\n",
       "      <td>8.106</td>\n",
       "      <td>False</td>\n",
       "    </tr>\n",
       "  </tbody>\n",
       "</table>\n",
       "</div>"
      ],
      "text/plain": [
       "   Store        Date  Temperature  Fuel_Price  MarkDown1  MarkDown2  \\\n",
       "0      1  05/02/2010        42.31       2.572        NaN        NaN   \n",
       "1      1  12/02/2010        38.51       2.548        NaN        NaN   \n",
       "2      1  19/02/2010        39.93       2.514        NaN        NaN   \n",
       "3      1  26/02/2010        46.63       2.561        NaN        NaN   \n",
       "4      1  05/03/2010        46.50       2.625        NaN        NaN   \n",
       "\n",
       "   MarkDown3  MarkDown4  MarkDown5         CPI  Unemployment  IsHoliday  \n",
       "0        NaN        NaN        NaN  211.096358         8.106      False  \n",
       "1        NaN        NaN        NaN  211.242170         8.106       True  \n",
       "2        NaN        NaN        NaN  211.289143         8.106      False  \n",
       "3        NaN        NaN        NaN  211.319643         8.106      False  \n",
       "4        NaN        NaN        NaN  211.350143         8.106      False  "
      ]
     },
     "execution_count": 78,
     "metadata": {},
     "output_type": "execute_result"
    }
   ],
   "source": [
    "# View the dataset\n",
    "features_df.head()"
   ]
  },
  {
   "cell_type": "code",
   "execution_count": 79,
   "id": "910f88c3",
   "metadata": {},
   "outputs": [
    {
     "data": {
      "text/html": [
       "<div>\n",
       "<style scoped>\n",
       "    .dataframe tbody tr th:only-of-type {\n",
       "        vertical-align: middle;\n",
       "    }\n",
       "\n",
       "    .dataframe tbody tr th {\n",
       "        vertical-align: top;\n",
       "    }\n",
       "\n",
       "    .dataframe thead th {\n",
       "        text-align: right;\n",
       "    }\n",
       "</style>\n",
       "<table border=\"1\" class=\"dataframe\">\n",
       "  <thead>\n",
       "    <tr style=\"text-align: right;\">\n",
       "      <th></th>\n",
       "      <th>Store</th>\n",
       "      <th>Date</th>\n",
       "      <th>Temperature</th>\n",
       "      <th>Fuel_Price</th>\n",
       "      <th>MarkDown1</th>\n",
       "      <th>MarkDown2</th>\n",
       "      <th>MarkDown3</th>\n",
       "      <th>MarkDown4</th>\n",
       "      <th>MarkDown5</th>\n",
       "      <th>CPI</th>\n",
       "      <th>Unemployment</th>\n",
       "      <th>IsHoliday</th>\n",
       "    </tr>\n",
       "  </thead>\n",
       "  <tbody>\n",
       "    <tr>\n",
       "      <th>8185</th>\n",
       "      <td>45</td>\n",
       "      <td>28/06/2013</td>\n",
       "      <td>76.05</td>\n",
       "      <td>3.639</td>\n",
       "      <td>4842.29</td>\n",
       "      <td>975.03</td>\n",
       "      <td>3.00</td>\n",
       "      <td>2449.97</td>\n",
       "      <td>3169.69</td>\n",
       "      <td>NaN</td>\n",
       "      <td>NaN</td>\n",
       "      <td>False</td>\n",
       "    </tr>\n",
       "    <tr>\n",
       "      <th>8186</th>\n",
       "      <td>45</td>\n",
       "      <td>05/07/2013</td>\n",
       "      <td>77.50</td>\n",
       "      <td>3.614</td>\n",
       "      <td>9090.48</td>\n",
       "      <td>2268.58</td>\n",
       "      <td>582.74</td>\n",
       "      <td>5797.47</td>\n",
       "      <td>1514.93</td>\n",
       "      <td>NaN</td>\n",
       "      <td>NaN</td>\n",
       "      <td>False</td>\n",
       "    </tr>\n",
       "    <tr>\n",
       "      <th>8187</th>\n",
       "      <td>45</td>\n",
       "      <td>12/07/2013</td>\n",
       "      <td>79.37</td>\n",
       "      <td>3.614</td>\n",
       "      <td>3789.94</td>\n",
       "      <td>1827.31</td>\n",
       "      <td>85.72</td>\n",
       "      <td>744.84</td>\n",
       "      <td>2150.36</td>\n",
       "      <td>NaN</td>\n",
       "      <td>NaN</td>\n",
       "      <td>False</td>\n",
       "    </tr>\n",
       "    <tr>\n",
       "      <th>8188</th>\n",
       "      <td>45</td>\n",
       "      <td>19/07/2013</td>\n",
       "      <td>82.84</td>\n",
       "      <td>3.737</td>\n",
       "      <td>2961.49</td>\n",
       "      <td>1047.07</td>\n",
       "      <td>204.19</td>\n",
       "      <td>363.00</td>\n",
       "      <td>1059.46</td>\n",
       "      <td>NaN</td>\n",
       "      <td>NaN</td>\n",
       "      <td>False</td>\n",
       "    </tr>\n",
       "    <tr>\n",
       "      <th>8189</th>\n",
       "      <td>45</td>\n",
       "      <td>26/07/2013</td>\n",
       "      <td>76.06</td>\n",
       "      <td>3.804</td>\n",
       "      <td>212.02</td>\n",
       "      <td>851.73</td>\n",
       "      <td>2.06</td>\n",
       "      <td>10.88</td>\n",
       "      <td>1864.57</td>\n",
       "      <td>NaN</td>\n",
       "      <td>NaN</td>\n",
       "      <td>False</td>\n",
       "    </tr>\n",
       "  </tbody>\n",
       "</table>\n",
       "</div>"
      ],
      "text/plain": [
       "      Store        Date  Temperature  Fuel_Price  MarkDown1  MarkDown2  \\\n",
       "8185     45  28/06/2013        76.05       3.639    4842.29     975.03   \n",
       "8186     45  05/07/2013        77.50       3.614    9090.48    2268.58   \n",
       "8187     45  12/07/2013        79.37       3.614    3789.94    1827.31   \n",
       "8188     45  19/07/2013        82.84       3.737    2961.49    1047.07   \n",
       "8189     45  26/07/2013        76.06       3.804     212.02     851.73   \n",
       "\n",
       "      MarkDown3  MarkDown4  MarkDown5  CPI  Unemployment  IsHoliday  \n",
       "8185       3.00    2449.97    3169.69  NaN           NaN      False  \n",
       "8186     582.74    5797.47    1514.93  NaN           NaN      False  \n",
       "8187      85.72     744.84    2150.36  NaN           NaN      False  \n",
       "8188     204.19     363.00    1059.46  NaN           NaN      False  \n",
       "8189       2.06      10.88    1864.57  NaN           NaN      False  "
      ]
     },
     "execution_count": 79,
     "metadata": {},
     "output_type": "execute_result"
    }
   ],
   "source": [
    "features_df.tail()"
   ]
  },
  {
   "cell_type": "code",
   "execution_count": 80,
   "id": "5884de18",
   "metadata": {},
   "outputs": [
    {
     "data": {
      "text/plain": [
       "Store              0\n",
       "Date               0\n",
       "Temperature        0\n",
       "Fuel_Price         0\n",
       "MarkDown1       4158\n",
       "MarkDown2       5269\n",
       "MarkDown3       4577\n",
       "MarkDown4       4726\n",
       "MarkDown5       4140\n",
       "CPI              585\n",
       "Unemployment     585\n",
       "IsHoliday          0\n",
       "dtype: int64"
      ]
     },
     "execution_count": 80,
     "metadata": {},
     "output_type": "execute_result"
    }
   ],
   "source": [
    "# Missing values\n",
    "features_df.isnull().sum()"
   ]
  },
  {
   "cell_type": "code",
   "execution_count": 81,
   "id": "a6d2ff9e",
   "metadata": {},
   "outputs": [
    {
     "data": {
      "image/png": "[encoded data removed]",
      "text/plain": [
       "<Figure size 700x400 with 1 Axes>"
      ]
     },
     "metadata": {},
     "output_type": "display_data"
    }
   ],
   "source": [
    "# Visualize missing vlues\n",
    "missing = features_df.isnull().sum()[lambda x: x > 0] \n",
    "\n",
    "plt.figure(figsize=(7,4))\n",
    "ax = missing.plot(kind='bar', color='mediumpurple', edgecolor='black')\n",
    "for i, v in enumerate(missing):\n",
    "    ax.text(i, v + 0.5, str(v), ha='center', va='bottom', fontsize=9)\n",
    "\n",
    "plt.title(\"Missing Values per Column\")\n",
    "plt.ylabel(\"Number of Missing Values\")\n",
    "plt.xlabel(\"Columns\")\n",
    "plt.xticks(rotation=90)\n",
    "\n",
    "plt.tight_layout()\n",
    "plt.show()"
   ]
  },
  {
   "cell_type": "code",
   "execution_count": 82,
   "id": "8a06ec44",
   "metadata": {},
   "outputs": [
    {
     "data": {
      "text/plain": [
       "np.int64(0)"
      ]
     },
     "execution_count": 82,
     "metadata": {},
     "output_type": "execute_result"
    }
   ],
   "source": [
    "# Duplicates\n",
    "features_df.duplicated().sum()"
   ]
  },
  {
   "cell_type": "code",
   "execution_count": 83,
   "id": "09bf421e",
   "metadata": {},
   "outputs": [
    {
     "data": {
      "text/html": [
       "<div>\n",
       "<style scoped>\n",
       "    .dataframe tbody tr th:only-of-type {\n",
       "        vertical-align: middle;\n",
       "    }\n",
       "\n",
       "    .dataframe tbody tr th {\n",
       "        vertical-align: top;\n",
       "    }\n",
       "\n",
       "    .dataframe thead th {\n",
       "        text-align: right;\n",
       "    }\n",
       "</style>\n",
       "<table border=\"1\" class=\"dataframe\">\n",
       "  <thead>\n",
       "    <tr style=\"text-align: right;\">\n",
       "      <th></th>\n",
       "      <th>count</th>\n",
       "      <th>mean</th>\n",
       "      <th>std</th>\n",
       "      <th>min</th>\n",
       "      <th>25%</th>\n",
       "      <th>50%</th>\n",
       "      <th>75%</th>\n",
       "      <th>max</th>\n",
       "    </tr>\n",
       "  </thead>\n",
       "  <tbody>\n",
       "    <tr>\n",
       "      <th>Store</th>\n",
       "      <td>8190.0</td>\n",
       "      <td>23.000000</td>\n",
       "      <td>12.987966</td>\n",
       "      <td>1.000</td>\n",
       "      <td>12.000000</td>\n",
       "      <td>23.000000</td>\n",
       "      <td>34.000000</td>\n",
       "      <td>45.000000</td>\n",
       "    </tr>\n",
       "    <tr>\n",
       "      <th>Temperature</th>\n",
       "      <td>8190.0</td>\n",
       "      <td>59.356198</td>\n",
       "      <td>18.678607</td>\n",
       "      <td>-7.290</td>\n",
       "      <td>45.902500</td>\n",
       "      <td>60.710000</td>\n",
       "      <td>73.880000</td>\n",
       "      <td>101.950000</td>\n",
       "    </tr>\n",
       "    <tr>\n",
       "      <th>Fuel_Price</th>\n",
       "      <td>8190.0</td>\n",
       "      <td>3.405992</td>\n",
       "      <td>0.431337</td>\n",
       "      <td>2.472</td>\n",
       "      <td>3.041000</td>\n",
       "      <td>3.513000</td>\n",
       "      <td>3.743000</td>\n",
       "      <td>4.468000</td>\n",
       "    </tr>\n",
       "    <tr>\n",
       "      <th>MarkDown1</th>\n",
       "      <td>4032.0</td>\n",
       "      <td>7032.371786</td>\n",
       "      <td>9262.747448</td>\n",
       "      <td>-2781.450</td>\n",
       "      <td>1577.532500</td>\n",
       "      <td>4743.580000</td>\n",
       "      <td>8923.310000</td>\n",
       "      <td>103184.980000</td>\n",
       "    </tr>\n",
       "    <tr>\n",
       "      <th>MarkDown2</th>\n",
       "      <td>2921.0</td>\n",
       "      <td>3384.176594</td>\n",
       "      <td>8793.583016</td>\n",
       "      <td>-265.760</td>\n",
       "      <td>68.880000</td>\n",
       "      <td>364.570000</td>\n",
       "      <td>2153.350000</td>\n",
       "      <td>104519.540000</td>\n",
       "    </tr>\n",
       "    <tr>\n",
       "      <th>MarkDown3</th>\n",
       "      <td>3613.0</td>\n",
       "      <td>1760.100180</td>\n",
       "      <td>11276.462208</td>\n",
       "      <td>-179.260</td>\n",
       "      <td>6.600000</td>\n",
       "      <td>36.260000</td>\n",
       "      <td>163.150000</td>\n",
       "      <td>149483.310000</td>\n",
       "    </tr>\n",
       "    <tr>\n",
       "      <th>MarkDown4</th>\n",
       "      <td>3464.0</td>\n",
       "      <td>3292.935886</td>\n",
       "      <td>6792.329861</td>\n",
       "      <td>0.220</td>\n",
       "      <td>304.687500</td>\n",
       "      <td>1176.425000</td>\n",
       "      <td>3310.007500</td>\n",
       "      <td>67474.850000</td>\n",
       "    </tr>\n",
       "    <tr>\n",
       "      <th>MarkDown5</th>\n",
       "      <td>4050.0</td>\n",
       "      <td>4132.216422</td>\n",
       "      <td>13086.690278</td>\n",
       "      <td>-185.170</td>\n",
       "      <td>1440.827500</td>\n",
       "      <td>2727.135000</td>\n",
       "      <td>4832.555000</td>\n",
       "      <td>771448.100000</td>\n",
       "    </tr>\n",
       "    <tr>\n",
       "      <th>CPI</th>\n",
       "      <td>7605.0</td>\n",
       "      <td>172.460809</td>\n",
       "      <td>39.738346</td>\n",
       "      <td>126.064</td>\n",
       "      <td>132.364839</td>\n",
       "      <td>182.764003</td>\n",
       "      <td>213.932412</td>\n",
       "      <td>228.976456</td>\n",
       "    </tr>\n",
       "    <tr>\n",
       "      <th>Unemployment</th>\n",
       "      <td>7605.0</td>\n",
       "      <td>7.826821</td>\n",
       "      <td>1.877259</td>\n",
       "      <td>3.684</td>\n",
       "      <td>6.634000</td>\n",
       "      <td>7.806000</td>\n",
       "      <td>8.567000</td>\n",
       "      <td>14.313000</td>\n",
       "    </tr>\n",
       "  </tbody>\n",
       "</table>\n",
       "</div>"
      ],
      "text/plain": [
       "               count         mean           std       min          25%  \\\n",
       "Store         8190.0    23.000000     12.987966     1.000    12.000000   \n",
       "Temperature   8190.0    59.356198     18.678607    -7.290    45.902500   \n",
       "Fuel_Price    8190.0     3.405992      0.431337     2.472     3.041000   \n",
       "MarkDown1     4032.0  7032.371786   9262.747448 -2781.450  1577.532500   \n",
       "MarkDown2     2921.0  3384.176594   8793.583016  -265.760    68.880000   \n",
       "MarkDown3     3613.0  1760.100180  11276.462208  -179.260     6.600000   \n",
       "MarkDown4     3464.0  3292.935886   6792.329861     0.220   304.687500   \n",
       "MarkDown5     4050.0  4132.216422  13086.690278  -185.170  1440.827500   \n",
       "CPI           7605.0   172.460809     39.738346   126.064   132.364839   \n",
       "Unemployment  7605.0     7.826821      1.877259     3.684     6.634000   \n",
       "\n",
       "                      50%          75%            max  \n",
       "Store           23.000000    34.000000      45.000000  \n",
       "Temperature     60.710000    73.880000     101.950000  \n",
       "Fuel_Price       3.513000     3.743000       4.468000  \n",
       "MarkDown1     4743.580000  8923.310000  103184.980000  \n",
       "MarkDown2      364.570000  2153.350000  104519.540000  \n",
       "MarkDown3       36.260000   163.150000  149483.310000  \n",
       "MarkDown4     1176.425000  3310.007500   67474.850000  \n",
       "MarkDown5     2727.135000  4832.555000  771448.100000  \n",
       "CPI            182.764003   213.932412     228.976456  \n",
       "Unemployment     7.806000     8.567000      14.313000  "
      ]
     },
     "execution_count": 83,
     "metadata": {},
     "output_type": "execute_result"
    }
   ],
   "source": [
    "# Descriptive statistics\n",
    "features_df.describe().T"
   ]
  },
  {
   "cell_type": "code",
   "execution_count": 84,
   "id": "dde1029c",
   "metadata": {},
   "outputs": [
    {
     "data": {
      "text/html": [
       "<div>\n",
       "<style scoped>\n",
       "    .dataframe tbody tr th:only-of-type {\n",
       "        vertical-align: middle;\n",
       "    }\n",
       "\n",
       "    .dataframe tbody tr th {\n",
       "        vertical-align: top;\n",
       "    }\n",
       "\n",
       "    .dataframe thead th {\n",
       "        text-align: right;\n",
       "    }\n",
       "</style>\n",
       "<table border=\"1\" class=\"dataframe\">\n",
       "  <thead>\n",
       "    <tr style=\"text-align: right;\">\n",
       "      <th></th>\n",
       "      <th>count</th>\n",
       "      <th>unique</th>\n",
       "      <th>top</th>\n",
       "      <th>freq</th>\n",
       "    </tr>\n",
       "  </thead>\n",
       "  <tbody>\n",
       "    <tr>\n",
       "      <th>Date</th>\n",
       "      <td>8190</td>\n",
       "      <td>182</td>\n",
       "      <td>05/02/2010</td>\n",
       "      <td>45</td>\n",
       "    </tr>\n",
       "    <tr>\n",
       "      <th>IsHoliday</th>\n",
       "      <td>8190</td>\n",
       "      <td>2</td>\n",
       "      <td>False</td>\n",
       "      <td>7605</td>\n",
       "    </tr>\n",
       "  </tbody>\n",
       "</table>\n",
       "</div>"
      ],
      "text/plain": [
       "          count unique         top  freq\n",
       "Date       8190    182  05/02/2010    45\n",
       "IsHoliday  8190      2       False  7605"
      ]
     },
     "execution_count": 84,
     "metadata": {},
     "output_type": "execute_result"
    }
   ],
   "source": [
    "features_df.describe(include=['object', 'bool']).T"
   ]
  },
  {
   "cell_type": "code",
   "execution_count": 85,
   "id": "3be653e3",
   "metadata": {},
   "outputs": [
    {
     "data": {
      "text/plain": [
       "Store             45\n",
       "Date             182\n",
       "Temperature     4178\n",
       "Fuel_Price      1011\n",
       "MarkDown1       4023\n",
       "MarkDown2       2715\n",
       "MarkDown3       2885\n",
       "MarkDown4       3405\n",
       "MarkDown5       4045\n",
       "CPI             2505\n",
       "Unemployment     404\n",
       "IsHoliday          2\n",
       "dtype: int64"
      ]
     },
     "execution_count": 85,
     "metadata": {},
     "output_type": "execute_result"
    }
   ],
   "source": [
    "# Unique values\n",
    "features_df.nunique()"
   ]
  },
  {
   "cell_type": "markdown",
   "id": "0793d72d",
   "metadata": {},
   "source": [
    "#### ***Basic Understanding of features dataset***\n",
    "- The dataset consists of 8190 rows and 12 columns.\n",
    "- Some columns in the datset do need conversion of data type.\n",
    "- Although there are no duplicate values, there are missing values that need to be handled.\n",
    "\n",
    "#### ***Feature Description***\n",
    "- Store -> Unique Store Id\n",
    "- Date -> Timestamp of record\n",
    "- Temperature -> Average tempurature (External factor that could affect customer/supply chain behaviours)\n",
    "- Fuel_Price -> Cost of fuel (Economic factor that could affect customer/supply chain behaviours)\n",
    "- Markdown (1-5) -> Promotional discount/offer values\n",
    "- CPI -> Consumer Price Index, a metric used for measuring inflation in India\n",
    "- Unemployment -> Unemployment rate (Economic factor that could affect customer behaviour)\n",
    "- IsHoliday -> Binary flag indicating holiday weeks"
   ]
  },
  {
   "cell_type": "markdown",
   "id": "69ca01d1",
   "metadata": {},
   "source": [
    "### ***Data Wrangling***"
   ]
  },
  {
   "cell_type": "code",
   "execution_count": 96,
   "id": "d45e8948",
   "metadata": {},
   "outputs": [
    {
     "name": "stdout",
     "output_type": "stream",
     "text": [
      "<class 'pandas.core.frame.DataFrame'>\n",
      "RangeIndex: 421570 entries, 0 to 421569\n",
      "Data columns (total 16 columns):\n",
      " #   Column        Non-Null Count   Dtype  \n",
      "---  ------        --------------   -----  \n",
      " 0   Store         421570 non-null  int64  \n",
      " 1   Dept          421570 non-null  int64  \n",
      " 2   Date          421570 non-null  object \n",
      " 3   Weekly_Sales  421570 non-null  float64\n",
      " 4   IsHoliday     421570 non-null  bool   \n",
      " 5   Temperature   421570 non-null  float64\n",
      " 6   Fuel_Price    421570 non-null  float64\n",
      " 7   MarkDown1     150681 non-null  float64\n",
      " 8   MarkDown2     111248 non-null  float64\n",
      " 9   MarkDown3     137091 non-null  float64\n",
      " 10  MarkDown4     134967 non-null  float64\n",
      " 11  MarkDown5     151432 non-null  float64\n",
      " 12  CPI           421570 non-null  float64\n",
      " 13  Unemployment  421570 non-null  float64\n",
      " 14  Type          421570 non-null  object \n",
      " 15  Size          421570 non-null  int64  \n",
      "dtypes: bool(1), float64(10), int64(3), object(2)\n",
      "memory usage: 48.6+ MB\n"
     ]
    }
   ],
   "source": [
    "# Merge datasets\n",
    "df = pd.merge(sales_df, features_df, how = 'left', on = ['Store', 'Date', 'IsHoliday']) # merging sales and features \n",
    "merged_df = pd.merge(df, store_df, how = 'left', on = 'Store') # merging df and store\n",
    "merged_df.info()"
   ]
  },
  {
   "cell_type": "code",
   "execution_count": 97,
   "id": "0a278dbe",
   "metadata": {},
   "outputs": [],
   "source": [
    "# Convert identifiers to category\n",
    "merged_df['Store'] = merged_df['Store'].astype('category')\n",
    "merged_df['Dept'] = merged_df['Dept'].astype('category')\n",
    "merged_df['Type'] = merged_df['Type'].astype('category')\n",
    "\n",
    "# # Convert date to datetime\n",
    "merged_df['Date'] = pd.to_datetime(merged_df['Date'], dayfirst=True)"
   ]
  },
  {
   "cell_type": "code",
   "execution_count": 98,
   "id": "e661e7b4",
   "metadata": {},
   "outputs": [
    {
     "data": {
      "text/html": [
       "<div>\n",
       "<style scoped>\n",
       "    .dataframe tbody tr th:only-of-type {\n",
       "        vertical-align: middle;\n",
       "    }\n",
       "\n",
       "    .dataframe tbody tr th {\n",
       "        vertical-align: top;\n",
       "    }\n",
       "\n",
       "    .dataframe thead th {\n",
       "        text-align: right;\n",
       "    }\n",
       "</style>\n",
       "<table border=\"1\" class=\"dataframe\">\n",
       "  <thead>\n",
       "    <tr style=\"text-align: right;\">\n",
       "      <th></th>\n",
       "      <th>Missing Count</th>\n",
       "      <th>Missing Percentage</th>\n",
       "    </tr>\n",
       "  </thead>\n",
       "  <tbody>\n",
       "    <tr>\n",
       "      <th>MarkDown1</th>\n",
       "      <td>270889</td>\n",
       "      <td>64.257181</td>\n",
       "    </tr>\n",
       "    <tr>\n",
       "      <th>MarkDown2</th>\n",
       "      <td>310322</td>\n",
       "      <td>73.611025</td>\n",
       "    </tr>\n",
       "    <tr>\n",
       "      <th>MarkDown3</th>\n",
       "      <td>284479</td>\n",
       "      <td>67.480845</td>\n",
       "    </tr>\n",
       "    <tr>\n",
       "      <th>MarkDown4</th>\n",
       "      <td>286603</td>\n",
       "      <td>67.984676</td>\n",
       "    </tr>\n",
       "    <tr>\n",
       "      <th>MarkDown5</th>\n",
       "      <td>270138</td>\n",
       "      <td>64.079038</td>\n",
       "    </tr>\n",
       "  </tbody>\n",
       "</table>\n",
       "</div>"
      ],
      "text/plain": [
       "           Missing Count  Missing Percentage\n",
       "MarkDown1         270889           64.257181\n",
       "MarkDown2         310322           73.611025\n",
       "MarkDown3         284479           67.480845\n",
       "MarkDown4         286603           67.984676\n",
       "MarkDown5         270138           64.079038"
      ]
     },
     "execution_count": 98,
     "metadata": {},
     "output_type": "execute_result"
    }
   ],
   "source": [
    "# Handle missing values\n",
    "missing_count = df.isnull().sum()[lambda x: x > 0]\n",
    "missing_percentage = (missing_count / len(df)) * 100\n",
    "\n",
    "missing_df = pd.DataFrame({\n",
    "    'Missing Count': missing_count,\n",
    "    'Missing Percentage': missing_percentage\n",
    "})\n",
    "missing_df"
   ]
  },
  {
   "cell_type": "markdown",
   "id": "c2f71549",
   "metadata": {},
   "source": [
    "Since these columns represent discounts/offers & more than 50% of the data contain missing values, it is best to assume that there are no discounts or offers given. Therefore, let's fill all NaN values in these columns with 0"
   ]
  },
  {
   "cell_type": "code",
   "execution_count": 99,
   "id": "89dd6bcb",
   "metadata": {},
   "outputs": [
    {
     "data": {
      "text/plain": [
       "Store           0\n",
       "Dept            0\n",
       "Date            0\n",
       "Weekly_Sales    0\n",
       "IsHoliday       0\n",
       "Temperature     0\n",
       "Fuel_Price      0\n",
       "MarkDown1       0\n",
       "MarkDown2       0\n",
       "MarkDown3       0\n",
       "MarkDown4       0\n",
       "MarkDown5       0\n",
       "CPI             0\n",
       "Unemployment    0\n",
       "Type            0\n",
       "Size            0\n",
       "dtype: int64"
      ]
     },
     "execution_count": 99,
     "metadata": {},
     "output_type": "execute_result"
    }
   ],
   "source": [
    "# Markdown columns\n",
    "md_cols = ['MarkDown1', 'MarkDown2', 'MarkDown3', 'MarkDown4', 'MarkDown5']\n",
    "merged_df[md_cols] = merged_df[md_cols].fillna(0)\n",
    "merged_df.isnull().sum()"
   ]
  }
 ],
 "metadata": {
  "kernelspec": {
   "display_name": ".venv",
   "language": "python",
   "name": "python3"
  },
  "language_info": {
   "codemirror_mode": {
    "name": "ipython",
    "version": 3
   },
   "file_extension": ".py",
   "mimetype": "text/x-python",
   "name": "python",
   "nbconvert_exporter": "python",
   "pygments_lexer": "ipython3",
   "version": "3.12.10"
  }
 },
 "nbformat": 4,
 "nbformat_minor": 5
}
