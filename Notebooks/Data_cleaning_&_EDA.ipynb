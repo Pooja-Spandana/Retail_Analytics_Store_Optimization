{
 "cells": [
  {
   "cell_type": "code",
   "execution_count": null,
   "id": "77eceaf0",
   "metadata": {},
   "outputs": [],
   "source": [
    "# Import required libraries"
   ]
  }
 ],
 "metadata": {
  "kernelspec": {
   "display_name": ".venv",
   "language": "python",
   "name": "python3"
  },
  "language_info": {
   "name": "python",
   "version": "3.12.10"
  }
 },
 "nbformat": 4,
 "nbformat_minor": 5
}
